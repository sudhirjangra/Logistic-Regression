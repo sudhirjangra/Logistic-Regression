{
 "cells": [
  {
   "cell_type": "code",
   "execution_count": 2,
   "id": "bcedc1ec-a30c-4722-be52-60ee3caf09a1",
   "metadata": {},
   "outputs": [],
   "source": [
    "import pandas as pd\n",
    "import numpy as np\n",
    "import seaborn as sns"
   ]
  },
  {
   "cell_type": "code",
   "execution_count": 3,
   "id": "8fb15ebf-9688-4637-b921-42f73e670289",
   "metadata": {},
   "outputs": [],
   "source": [
    "df = pd.read_csv('creditcard.csv')"
   ]
  },
  {
   "cell_type": "code",
   "execution_count": 4,
   "id": "010fe543-e378-4c0c-b6d2-880ba5ccd597",
   "metadata": {},
   "outputs": [
    {
     "data": {
      "text/html": [
       "<div>\n",
       "<style scoped>\n",
       "    .dataframe tbody tr th:only-of-type {\n",
       "        vertical-align: middle;\n",
       "    }\n",
       "\n",
       "    .dataframe tbody tr th {\n",
       "        vertical-align: top;\n",
       "    }\n",
       "\n",
       "    .dataframe thead th {\n",
       "        text-align: right;\n",
       "    }\n",
       "</style>\n",
       "<table border=\"1\" class=\"dataframe\">\n",
       "  <thead>\n",
       "    <tr style=\"text-align: right;\">\n",
       "      <th></th>\n",
       "      <th>Time</th>\n",
       "      <th>V1</th>\n",
       "      <th>V2</th>\n",
       "      <th>V3</th>\n",
       "      <th>V4</th>\n",
       "      <th>V5</th>\n",
       "      <th>V6</th>\n",
       "      <th>V7</th>\n",
       "      <th>V8</th>\n",
       "      <th>V9</th>\n",
       "      <th>...</th>\n",
       "      <th>V21</th>\n",
       "      <th>V22</th>\n",
       "      <th>V23</th>\n",
       "      <th>V24</th>\n",
       "      <th>V25</th>\n",
       "      <th>V26</th>\n",
       "      <th>V27</th>\n",
       "      <th>V28</th>\n",
       "      <th>Amount</th>\n",
       "      <th>Class</th>\n",
       "    </tr>\n",
       "  </thead>\n",
       "  <tbody>\n",
       "    <tr>\n",
       "      <th>162497</th>\n",
       "      <td>115169.0</td>\n",
       "      <td>0.006737</td>\n",
       "      <td>1.368085</td>\n",
       "      <td>-1.759945</td>\n",
       "      <td>1.027598</td>\n",
       "      <td>1.059646</td>\n",
       "      <td>-0.346108</td>\n",
       "      <td>0.761230</td>\n",
       "      <td>0.134260</td>\n",
       "      <td>-1.274910</td>\n",
       "      <td>...</td>\n",
       "      <td>0.293588</td>\n",
       "      <td>0.898381</td>\n",
       "      <td>-0.137207</td>\n",
       "      <td>0.372545</td>\n",
       "      <td>-0.844554</td>\n",
       "      <td>0.936655</td>\n",
       "      <td>-0.024331</td>\n",
       "      <td>0.185192</td>\n",
       "      <td>23.83</td>\n",
       "      <td>0</td>\n",
       "    </tr>\n",
       "    <tr>\n",
       "      <th>121221</th>\n",
       "      <td>76115.0</td>\n",
       "      <td>1.108891</td>\n",
       "      <td>-0.291240</td>\n",
       "      <td>1.107743</td>\n",
       "      <td>0.500730</td>\n",
       "      <td>-1.076722</td>\n",
       "      <td>-0.421934</td>\n",
       "      <td>-0.496411</td>\n",
       "      <td>-0.053584</td>\n",
       "      <td>0.729095</td>\n",
       "      <td>...</td>\n",
       "      <td>0.133613</td>\n",
       "      <td>0.490406</td>\n",
       "      <td>-0.109262</td>\n",
       "      <td>0.505031</td>\n",
       "      <td>0.325667</td>\n",
       "      <td>0.690186</td>\n",
       "      <td>-0.006358</td>\n",
       "      <td>0.033093</td>\n",
       "      <td>60.35</td>\n",
       "      <td>0</td>\n",
       "    </tr>\n",
       "    <tr>\n",
       "      <th>207348</th>\n",
       "      <td>136632.0</td>\n",
       "      <td>-0.119270</td>\n",
       "      <td>0.864850</td>\n",
       "      <td>-0.905672</td>\n",
       "      <td>-0.831976</td>\n",
       "      <td>1.364375</td>\n",
       "      <td>-0.412843</td>\n",
       "      <td>0.812981</td>\n",
       "      <td>-0.014320</td>\n",
       "      <td>-0.261729</td>\n",
       "      <td>...</td>\n",
       "      <td>0.232815</td>\n",
       "      <td>0.785225</td>\n",
       "      <td>-0.082915</td>\n",
       "      <td>0.042399</td>\n",
       "      <td>-0.358251</td>\n",
       "      <td>0.546304</td>\n",
       "      <td>0.185850</td>\n",
       "      <td>0.151169</td>\n",
       "      <td>4.86</td>\n",
       "      <td>0</td>\n",
       "    </tr>\n",
       "    <tr>\n",
       "      <th>133420</th>\n",
       "      <td>80379.0</td>\n",
       "      <td>0.526582</td>\n",
       "      <td>-1.481140</td>\n",
       "      <td>0.745317</td>\n",
       "      <td>0.537338</td>\n",
       "      <td>-1.542083</td>\n",
       "      <td>-0.257056</td>\n",
       "      <td>-0.177223</td>\n",
       "      <td>-0.041670</td>\n",
       "      <td>1.153375</td>\n",
       "      <td>...</td>\n",
       "      <td>-0.018275</td>\n",
       "      <td>-0.594108</td>\n",
       "      <td>-0.232730</td>\n",
       "      <td>0.492437</td>\n",
       "      <td>0.008465</td>\n",
       "      <td>0.904084</td>\n",
       "      <td>-0.100266</td>\n",
       "      <td>0.076299</td>\n",
       "      <td>363.04</td>\n",
       "      <td>0</td>\n",
       "    </tr>\n",
       "  </tbody>\n",
       "</table>\n",
       "<p>4 rows × 31 columns</p>\n",
       "</div>"
      ],
      "text/plain": [
       "            Time        V1        V2        V3        V4        V5        V6  \\\n",
       "162497  115169.0  0.006737  1.368085 -1.759945  1.027598  1.059646 -0.346108   \n",
       "121221   76115.0  1.108891 -0.291240  1.107743  0.500730 -1.076722 -0.421934   \n",
       "207348  136632.0 -0.119270  0.864850 -0.905672 -0.831976  1.364375 -0.412843   \n",
       "133420   80379.0  0.526582 -1.481140  0.745317  0.537338 -1.542083 -0.257056   \n",
       "\n",
       "              V7        V8        V9  ...       V21       V22       V23  \\\n",
       "162497  0.761230  0.134260 -1.274910  ...  0.293588  0.898381 -0.137207   \n",
       "121221 -0.496411 -0.053584  0.729095  ...  0.133613  0.490406 -0.109262   \n",
       "207348  0.812981 -0.014320 -0.261729  ...  0.232815  0.785225 -0.082915   \n",
       "133420 -0.177223 -0.041670  1.153375  ... -0.018275 -0.594108 -0.232730   \n",
       "\n",
       "             V24       V25       V26       V27       V28  Amount  Class  \n",
       "162497  0.372545 -0.844554  0.936655 -0.024331  0.185192   23.83      0  \n",
       "121221  0.505031  0.325667  0.690186 -0.006358  0.033093   60.35      0  \n",
       "207348  0.042399 -0.358251  0.546304  0.185850  0.151169    4.86      0  \n",
       "133420  0.492437  0.008465  0.904084 -0.100266  0.076299  363.04      0  \n",
       "\n",
       "[4 rows x 31 columns]"
      ]
     },
     "execution_count": 4,
     "metadata": {},
     "output_type": "execute_result"
    }
   ],
   "source": [
    "df.sample(4)"
   ]
  },
  {
   "cell_type": "code",
   "execution_count": 6,
   "id": "0facf4f6-81e2-42fb-925b-01cac83884c6",
   "metadata": {},
   "outputs": [
    {
     "data": {
      "text/plain": [
       "Class\n",
       "0    99.827251\n",
       "1     0.172749\n",
       "Name: count, dtype: float64"
      ]
     },
     "execution_count": 6,
     "metadata": {},
     "output_type": "execute_result"
    }
   ],
   "source": [
    "df['Class'].value_counts()/len(df)*100"
   ]
  },
  {
   "cell_type": "code",
   "execution_count": 10,
   "id": "b237f999-a802-4199-8ed6-e9c31c6f5e39",
   "metadata": {},
   "outputs": [
    {
     "data": {
      "text/plain": [
       "<Axes: xlabel='Class', ylabel='count'>"
      ]
     },
     "execution_count": 10,
     "metadata": {},
     "output_type": "execute_result"
    },
    {
     "data": {
      "image/png": "[encoded data removed]",
      "text/plain": [
       "<Figure size 640x480 with 1 Axes>"
      ]
     },
     "metadata": {},
     "output_type": "display_data"
    }
   ],
   "source": [
    "sns.countplot(data=df, x='Class', legend=True)"
   ]
  },
  {
   "cell_type": "markdown",
   "id": "b91a72f6-bd99-476e-ba6c-e99226bf1ab5",
   "metadata": {},
   "source": [
    "# Handle Imbalance Data"
   ]
  },
  {
   "cell_type": "code",
   "execution_count": 12,
   "id": "f040cfae-0613-458d-a839-ac45c3cab88d",
   "metadata": {},
   "outputs": [],
   "source": [
    "import imblearn"
   ]
  },
  {
   "cell_type": "code",
   "execution_count": 13,
   "id": "ba2c4b65-86ce-4194-a015-a2c88e679f15",
   "metadata": {},
   "outputs": [],
   "source": [
    "x = df.iloc[:,:-1]\n",
    "y = df.iloc[:,-1]"
   ]
  },
  {
   "cell_type": "code",
   "execution_count": 14,
   "id": "a2f98595-c28a-45dd-b1dd-df365a51689e",
   "metadata": {},
   "outputs": [
    {
     "data": {
      "text/html": [
       "<div>\n",
       "<style scoped>\n",
       "    .dataframe tbody tr th:only-of-type {\n",
       "        vertical-align: middle;\n",
       "    }\n",
       "\n",
       "    .dataframe tbody tr th {\n",
       "        vertical-align: top;\n",
       "    }\n",
       "\n",
       "    .dataframe thead th {\n",
       "        text-align: right;\n",
       "    }\n",
       "</style>\n",
       "<table border=\"1\" class=\"dataframe\">\n",
       "  <thead>\n",
       "    <tr style=\"text-align: right;\">\n",
       "      <th></th>\n",
       "      <th>Time</th>\n",
       "      <th>V1</th>\n",
       "      <th>V2</th>\n",
       "      <th>V3</th>\n",
       "      <th>V4</th>\n",
       "      <th>V5</th>\n",
       "      <th>V6</th>\n",
       "      <th>V7</th>\n",
       "      <th>V8</th>\n",
       "      <th>V9</th>\n",
       "      <th>...</th>\n",
       "      <th>V20</th>\n",
       "      <th>V21</th>\n",
       "      <th>V22</th>\n",
       "      <th>V23</th>\n",
       "      <th>V24</th>\n",
       "      <th>V25</th>\n",
       "      <th>V26</th>\n",
       "      <th>V27</th>\n",
       "      <th>V28</th>\n",
       "      <th>Amount</th>\n",
       "    </tr>\n",
       "  </thead>\n",
       "  <tbody>\n",
       "    <tr>\n",
       "      <th>215203</th>\n",
       "      <td>139974.0</td>\n",
       "      <td>-1.611734</td>\n",
       "      <td>-0.768253</td>\n",
       "      <td>-0.260316</td>\n",
       "      <td>-1.050755</td>\n",
       "      <td>0.182989</td>\n",
       "      <td>-1.475912</td>\n",
       "      <td>0.684836</td>\n",
       "      <td>0.079584</td>\n",
       "      <td>-1.730021</td>\n",
       "      <td>...</td>\n",
       "      <td>0.251486</td>\n",
       "      <td>-0.226720</td>\n",
       "      <td>-0.774604</td>\n",
       "      <td>0.381408</td>\n",
       "      <td>0.051606</td>\n",
       "      <td>-0.234430</td>\n",
       "      <td>0.418759</td>\n",
       "      <td>0.173400</td>\n",
       "      <td>-0.005854</td>\n",
       "      <td>181.06</td>\n",
       "    </tr>\n",
       "    <tr>\n",
       "      <th>165171</th>\n",
       "      <td>117247.0</td>\n",
       "      <td>0.108644</td>\n",
       "      <td>-3.518564</td>\n",
       "      <td>-1.662241</td>\n",
       "      <td>0.888870</td>\n",
       "      <td>-0.798263</td>\n",
       "      <td>1.701321</td>\n",
       "      <td>0.241881</td>\n",
       "      <td>0.324966</td>\n",
       "      <td>0.843026</td>\n",
       "      <td>...</td>\n",
       "      <td>1.535172</td>\n",
       "      <td>0.822144</td>\n",
       "      <td>0.470422</td>\n",
       "      <td>-0.620298</td>\n",
       "      <td>-1.573684</td>\n",
       "      <td>-0.814230</td>\n",
       "      <td>0.374267</td>\n",
       "      <td>-0.146414</td>\n",
       "      <td>0.085729</td>\n",
       "      <td>919.50</td>\n",
       "    </tr>\n",
       "    <tr>\n",
       "      <th>145401</th>\n",
       "      <td>86913.0</td>\n",
       "      <td>2.011159</td>\n",
       "      <td>-1.038703</td>\n",
       "      <td>-0.325112</td>\n",
       "      <td>-1.567060</td>\n",
       "      <td>-1.258907</td>\n",
       "      <td>-0.436197</td>\n",
       "      <td>-1.174076</td>\n",
       "      <td>0.253021</td>\n",
       "      <td>2.568655</td>\n",
       "      <td>...</td>\n",
       "      <td>-0.320462</td>\n",
       "      <td>0.084554</td>\n",
       "      <td>0.388620</td>\n",
       "      <td>0.233301</td>\n",
       "      <td>-0.432508</td>\n",
       "      <td>-0.442079</td>\n",
       "      <td>-0.292470</td>\n",
       "      <td>0.039472</td>\n",
       "      <td>-0.052302</td>\n",
       "      <td>1.00</td>\n",
       "    </tr>\n",
       "  </tbody>\n",
       "</table>\n",
       "<p>3 rows × 30 columns</p>\n",
       "</div>"
      ],
      "text/plain": [
       "            Time        V1        V2        V3        V4        V5        V6  \\\n",
       "215203  139974.0 -1.611734 -0.768253 -0.260316 -1.050755  0.182989 -1.475912   \n",
       "165171  117247.0  0.108644 -3.518564 -1.662241  0.888870 -0.798263  1.701321   \n",
       "145401   86913.0  2.011159 -1.038703 -0.325112 -1.567060 -1.258907 -0.436197   \n",
       "\n",
       "              V7        V8        V9  ...       V20       V21       V22  \\\n",
       "215203  0.684836  0.079584 -1.730021  ...  0.251486 -0.226720 -0.774604   \n",
       "165171  0.241881  0.324966  0.843026  ...  1.535172  0.822144  0.470422   \n",
       "145401 -1.174076  0.253021  2.568655  ... -0.320462  0.084554  0.388620   \n",
       "\n",
       "             V23       V24       V25       V26       V27       V28  Amount  \n",
       "215203  0.381408  0.051606 -0.234430  0.418759  0.173400 -0.005854  181.06  \n",
       "165171 -0.620298 -1.573684 -0.814230  0.374267 -0.146414  0.085729  919.50  \n",
       "145401  0.233301 -0.432508 -0.442079 -0.292470  0.039472 -0.052302    1.00  \n",
       "\n",
       "[3 rows x 30 columns]"
      ]
     },
     "execution_count": 14,
     "metadata": {},
     "output_type": "execute_result"
    }
   ],
   "source": [
    "x.sample(3)"
   ]
  },
  {
   "cell_type": "code",
   "execution_count": 15,
   "id": "72c7df5f-1ec0-4089-b600-ba87fd9bcfcb",
   "metadata": {},
   "outputs": [
    {
     "data": {
      "text/plain": [
       "283210    0\n",
       "129419    0\n",
       "100191    0\n",
       "Name: Class, dtype: int64"
      ]
     },
     "execution_count": 15,
     "metadata": {},
     "output_type": "execute_result"
    }
   ],
   "source": [
    "y.sample(3)"
   ]
  },
  {
   "cell_type": "code",
   "execution_count": 16,
   "id": "c66a5bfd-4116-44bc-8d19-f5515a5c4eeb",
   "metadata": {},
   "outputs": [
    {
     "data": {
      "text/plain": [
       "Class\n",
       "0    284315\n",
       "1       492\n",
       "Name: count, dtype: int64"
      ]
     },
     "execution_count": 16,
     "metadata": {},
     "output_type": "execute_result"
    }
   ],
   "source": [
    "y.value_counts()"
   ]
  },
  {
   "cell_type": "markdown",
   "id": "c34d0b71-cdde-4df7-a041-25e715c9969f",
   "metadata": {},
   "source": [
    "## Method 1: Random Undersampling"
   ]
  },
  {
   "cell_type": "code",
   "execution_count": 17,
   "id": "ea820507-41af-4ceb-bd67-9479a36605ef",
   "metadata": {},
   "outputs": [],
   "source": [
    "from imblearn.under_sampling import RandomUnderSampler\n",
    "under = RandomUnderSampler()\n",
    "xunder, yunder = under.fit_resample(x,y)"
   ]
  },
  {
   "cell_type": "code",
   "execution_count": 20,
   "id": "052fd22d-3465-44fa-862a-52e1f047c60b",
   "metadata": {},
   "outputs": [
    {
     "data": {
      "text/plain": [
       "Class\n",
       "0    492\n",
       "1    492\n",
       "Name: count, dtype: int64"
      ]
     },
     "execution_count": 20,
     "metadata": {},
     "output_type": "execute_result"
    }
   ],
   "source": [
    "yunder.value_counts()"
   ]
  },
  {
   "cell_type": "markdown",
   "id": "af635f0a-7626-4004-a1c1-03ed8b29d9cb",
   "metadata": {},
   "source": [
    "## Method 2: Random Oversampling"
   ]
  },
  {
   "cell_type": "code",
   "execution_count": 22,
   "id": "5af1b0a4-ad94-4904-9eca-a09dd7a2729c",
   "metadata": {},
   "outputs": [],
   "source": [
    "from imblearn.over_sampling import RandomOverSampler\n",
    "over = RandomOverSampler()\n",
    "xover, yover = over.fit_resample(x,y)"
   ]
  },
  {
   "cell_type": "code",
   "execution_count": 23,
   "id": "4dd5e260-8d3f-4d36-9a5a-5a2668c439df",
   "metadata": {},
   "outputs": [
    {
     "data": {
      "text/plain": [
       "Class\n",
       "0    284315\n",
       "1    284315\n",
       "Name: count, dtype: int64"
      ]
     },
     "execution_count": 23,
     "metadata": {},
     "output_type": "execute_result"
    }
   ],
   "source": [
    "yover.value_counts()"
   ]
  },
  {
   "cell_type": "markdown",
   "id": "8a13f96a-eac1-411e-8684-de859afe8b27",
   "metadata": {},
   "source": [
    "## Method 3: SMOTE"
   ]
  },
  {
   "cell_type": "code",
   "execution_count": 24,
   "id": "ee6d2c4b-9462-47f0-8a01-39f8a0a26f2d",
   "metadata": {},
   "outputs": [],
   "source": [
    "from imblearn.over_sampling import SMOTE\n",
    "smt = SMOTE()\n",
    "xsmote, ysmote = smt.fit_resample(x,y)"
   ]
  },
  {
   "cell_type": "code",
   "execution_count": 25,
   "id": "b71fc480-7e5f-4796-9a84-7327a34d84df",
   "metadata": {},
   "outputs": [
    {
     "data": {
      "text/plain": [
       "Class\n",
       "0    284315\n",
       "1    284315\n",
       "Name: count, dtype: int64"
      ]
     },
     "execution_count": 25,
     "metadata": {},
     "output_type": "execute_result"
    }
   ],
   "source": [
    "ysmote.value_counts()"
   ]
  },
  {
   "cell_type": "code",
   "execution_count": null,
   "id": "900cdc1c-b440-4a3b-9e01-def3f04a6cf9",
   "metadata": {},
   "outputs": [],
   "source": []
  }
 ],
 "metadata": {
  "kernelspec": {
   "display_name": "Python 3 (ipykernel)",
   "language": "python",
   "name": "python3"
  },
  "language_info": {
   "codemirror_mode": {
    "name": "ipython",
    "version": 3
   },
   "file_extension": ".py",
   "mimetype": "text/x-python",
   "name": "python",
   "nbconvert_exporter": "python",
   "pygments_lexer": "ipython3",
   "version": "3.12.5"
  }
 },
 "nbformat": 4,
 "nbformat_minor": 5
}
