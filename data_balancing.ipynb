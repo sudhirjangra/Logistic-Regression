{
 "cells": [
  {
   "cell_type": "markdown",
   "id": "a8d4e0ba-5c55-453a-82cb-cb21edccabf1",
   "metadata": {},
   "source": [
    "# `Data Balancing`"
   ]
  },
  {
   "cell_type": "code",
   "execution_count": 1,
   "id": "bcedc1ec-a30c-4722-be52-60ee3caf09a1",
   "metadata": {},
   "outputs": [],
   "source": [
    "import pandas as pd\n",
    "import numpy as np\n",
    "import seaborn as sns"
   ]
  },
  {
   "cell_type": "code",
   "execution_count": 2,
   "id": "8fb15ebf-9688-4637-b921-42f73e670289",
   "metadata": {},
   "outputs": [],
   "source": [
    "df = pd.read_csv('creditcard.csv')"
   ]
  },
  {
   "cell_type": "code",
   "execution_count": 3,
   "id": "010fe543-e378-4c0c-b6d2-880ba5ccd597",
   "metadata": {},
   "outputs": [
    {
     "data": {
      "text/html": [
       "<div>\n",
       "<style scoped>\n",
       "    .dataframe tbody tr th:only-of-type {\n",
       "        vertical-align: middle;\n",
       "    }\n",
       "\n",
       "    .dataframe tbody tr th {\n",
       "        vertical-align: top;\n",
       "    }\n",
       "\n",
       "    .dataframe thead th {\n",
       "        text-align: right;\n",
       "    }\n",
       "</style>\n",
       "<table border=\"1\" class=\"dataframe\">\n",
       "  <thead>\n",
       "    <tr style=\"text-align: right;\">\n",
       "      <th></th>\n",
       "      <th>Time</th>\n",
       "      <th>V1</th>\n",
       "      <th>V2</th>\n",
       "      <th>V3</th>\n",
       "      <th>V4</th>\n",
       "      <th>V5</th>\n",
       "      <th>V6</th>\n",
       "      <th>V7</th>\n",
       "      <th>V8</th>\n",
       "      <th>V9</th>\n",
       "      <th>...</th>\n",
       "      <th>V21</th>\n",
       "      <th>V22</th>\n",
       "      <th>V23</th>\n",
       "      <th>V24</th>\n",
       "      <th>V25</th>\n",
       "      <th>V26</th>\n",
       "      <th>V27</th>\n",
       "      <th>V28</th>\n",
       "      <th>Amount</th>\n",
       "      <th>Class</th>\n",
       "    </tr>\n",
       "  </thead>\n",
       "  <tbody>\n",
       "    <tr>\n",
       "      <th>165325</th>\n",
       "      <td>117357.0</td>\n",
       "      <td>-1.385973</td>\n",
       "      <td>1.282396</td>\n",
       "      <td>0.950909</td>\n",
       "      <td>-1.178334</td>\n",
       "      <td>0.518352</td>\n",
       "      <td>-0.218339</td>\n",
       "      <td>0.623430</td>\n",
       "      <td>-0.201999</td>\n",
       "      <td>0.775099</td>\n",
       "      <td>...</td>\n",
       "      <td>-0.220933</td>\n",
       "      <td>-0.411647</td>\n",
       "      <td>-0.124800</td>\n",
       "      <td>-0.516279</td>\n",
       "      <td>-0.266093</td>\n",
       "      <td>-0.341274</td>\n",
       "      <td>-0.375341</td>\n",
       "      <td>0.108164</td>\n",
       "      <td>2.31</td>\n",
       "      <td>0</td>\n",
       "    </tr>\n",
       "    <tr>\n",
       "      <th>116396</th>\n",
       "      <td>74258.0</td>\n",
       "      <td>-0.642920</td>\n",
       "      <td>1.099400</td>\n",
       "      <td>1.725971</td>\n",
       "      <td>-0.087426</td>\n",
       "      <td>0.101578</td>\n",
       "      <td>-0.577116</td>\n",
       "      <td>0.896401</td>\n",
       "      <td>-0.203257</td>\n",
       "      <td>-0.187904</td>\n",
       "      <td>...</td>\n",
       "      <td>-0.254361</td>\n",
       "      <td>-0.360850</td>\n",
       "      <td>0.017190</td>\n",
       "      <td>0.397192</td>\n",
       "      <td>-0.260483</td>\n",
       "      <td>0.054977</td>\n",
       "      <td>0.235970</td>\n",
       "      <td>-0.041120</td>\n",
       "      <td>14.98</td>\n",
       "      <td>0</td>\n",
       "    </tr>\n",
       "    <tr>\n",
       "      <th>264832</th>\n",
       "      <td>161613.0</td>\n",
       "      <td>2.035939</td>\n",
       "      <td>-0.318733</td>\n",
       "      <td>-3.081794</td>\n",
       "      <td>-0.512187</td>\n",
       "      <td>2.718176</td>\n",
       "      <td>3.167097</td>\n",
       "      <td>-0.110019</td>\n",
       "      <td>0.658140</td>\n",
       "      <td>0.207119</td>\n",
       "      <td>...</td>\n",
       "      <td>-0.021111</td>\n",
       "      <td>-0.002357</td>\n",
       "      <td>0.094771</td>\n",
       "      <td>0.751915</td>\n",
       "      <td>0.246870</td>\n",
       "      <td>0.398861</td>\n",
       "      <td>-0.067212</td>\n",
       "      <td>-0.077831</td>\n",
       "      <td>21.32</td>\n",
       "      <td>0</td>\n",
       "    </tr>\n",
       "    <tr>\n",
       "      <th>196366</th>\n",
       "      <td>131472.0</td>\n",
       "      <td>-2.677121</td>\n",
       "      <td>1.042634</td>\n",
       "      <td>-1.359925</td>\n",
       "      <td>-2.069566</td>\n",
       "      <td>-1.199482</td>\n",
       "      <td>0.398575</td>\n",
       "      <td>-0.968390</td>\n",
       "      <td>1.579101</td>\n",
       "      <td>-1.506365</td>\n",
       "      <td>...</td>\n",
       "      <td>0.269585</td>\n",
       "      <td>0.244433</td>\n",
       "      <td>-0.234555</td>\n",
       "      <td>-0.166461</td>\n",
       "      <td>1.087018</td>\n",
       "      <td>-0.054428</td>\n",
       "      <td>-1.034985</td>\n",
       "      <td>-0.497919</td>\n",
       "      <td>73.55</td>\n",
       "      <td>0</td>\n",
       "    </tr>\n",
       "  </tbody>\n",
       "</table>\n",
       "<p>4 rows × 31 columns</p>\n",
       "</div>"
      ],
      "text/plain": [
       "            Time        V1        V2        V3        V4        V5        V6  \\\n",
       "165325  117357.0 -1.385973  1.282396  0.950909 -1.178334  0.518352 -0.218339   \n",
       "116396   74258.0 -0.642920  1.099400  1.725971 -0.087426  0.101578 -0.577116   \n",
       "264832  161613.0  2.035939 -0.318733 -3.081794 -0.512187  2.718176  3.167097   \n",
       "196366  131472.0 -2.677121  1.042634 -1.359925 -2.069566 -1.199482  0.398575   \n",
       "\n",
       "              V7        V8        V9  ...       V21       V22       V23  \\\n",
       "165325  0.623430 -0.201999  0.775099  ... -0.220933 -0.411647 -0.124800   \n",
       "116396  0.896401 -0.203257 -0.187904  ... -0.254361 -0.360850  0.017190   \n",
       "264832 -0.110019  0.658140  0.207119  ... -0.021111 -0.002357  0.094771   \n",
       "196366 -0.968390  1.579101 -1.506365  ...  0.269585  0.244433 -0.234555   \n",
       "\n",
       "             V24       V25       V26       V27       V28  Amount  Class  \n",
       "165325 -0.516279 -0.266093 -0.341274 -0.375341  0.108164    2.31      0  \n",
       "116396  0.397192 -0.260483  0.054977  0.235970 -0.041120   14.98      0  \n",
       "264832  0.751915  0.246870  0.398861 -0.067212 -0.077831   21.32      0  \n",
       "196366 -0.166461  1.087018 -0.054428 -1.034985 -0.497919   73.55      0  \n",
       "\n",
       "[4 rows x 31 columns]"
      ]
     },
     "execution_count": 3,
     "metadata": {},
     "output_type": "execute_result"
    }
   ],
   "source": [
    "df.sample(4)"
   ]
  },
  {
   "cell_type": "code",
   "execution_count": 4,
   "id": "0facf4f6-81e2-42fb-925b-01cac83884c6",
   "metadata": {},
   "outputs": [
    {
     "data": {
      "text/plain": [
       "Class\n",
       "0    99.827251\n",
       "1     0.172749\n",
       "Name: count, dtype: float64"
      ]
     },
     "execution_count": 4,
     "metadata": {},
     "output_type": "execute_result"
    }
   ],
   "source": [
    "df['Class'].value_counts()/len(df)*100"
   ]
  },
  {
   "cell_type": "code",
   "execution_count": 5,
   "id": "b237f999-a802-4199-8ed6-e9c31c6f5e39",
   "metadata": {},
   "outputs": [
    {
     "data": {
      "text/plain": [
       "<Axes: xlabel='Class', ylabel='count'>"
      ]
     },
     "execution_count": 5,
     "metadata": {},
     "output_type": "execute_result"
    },
    {
     "data": {
      "image/png": "[encoded data removed]",
      "text/plain": [
       "<Figure size 640x480 with 1 Axes>"
      ]
     },
     "metadata": {},
     "output_type": "display_data"
    }
   ],
   "source": [
    "sns.countplot(data=df, x='Class', legend=True)"
   ]
  },
  {
   "cell_type": "markdown",
   "id": "b91a72f6-bd99-476e-ba6c-e99226bf1ab5",
   "metadata": {},
   "source": [
    "# Handle Imbalance Data"
   ]
  },
  {
   "cell_type": "code",
   "execution_count": 6,
   "id": "f040cfae-0613-458d-a839-ac45c3cab88d",
   "metadata": {},
   "outputs": [],
   "source": [
    "import imblearn"
   ]
  },
  {
   "cell_type": "code",
   "execution_count": 7,
   "id": "ba2c4b65-86ce-4194-a015-a2c88e679f15",
   "metadata": {},
   "outputs": [],
   "source": [
    "x = df.iloc[:,:-1]\n",
    "y = df.iloc[:,-1]"
   ]
  },
  {
   "cell_type": "code",
   "execution_count": 8,
   "id": "a2f98595-c28a-45dd-b1dd-df365a51689e",
   "metadata": {},
   "outputs": [
    {
     "data": {
      "text/html": [
       "<div>\n",
       "<style scoped>\n",
       "    .dataframe tbody tr th:only-of-type {\n",
       "        vertical-align: middle;\n",
       "    }\n",
       "\n",
       "    .dataframe tbody tr th {\n",
       "        vertical-align: top;\n",
       "    }\n",
       "\n",
       "    .dataframe thead th {\n",
       "        text-align: right;\n",
       "    }\n",
       "</style>\n",
       "<table border=\"1\" class=\"dataframe\">\n",
       "  <thead>\n",
       "    <tr style=\"text-align: right;\">\n",
       "      <th></th>\n",
       "      <th>Time</th>\n",
       "      <th>V1</th>\n",
       "      <th>V2</th>\n",
       "      <th>V3</th>\n",
       "      <th>V4</th>\n",
       "      <th>V5</th>\n",
       "      <th>V6</th>\n",
       "      <th>V7</th>\n",
       "      <th>V8</th>\n",
       "      <th>V9</th>\n",
       "      <th>...</th>\n",
       "      <th>V20</th>\n",
       "      <th>V21</th>\n",
       "      <th>V22</th>\n",
       "      <th>V23</th>\n",
       "      <th>V24</th>\n",
       "      <th>V25</th>\n",
       "      <th>V26</th>\n",
       "      <th>V27</th>\n",
       "      <th>V28</th>\n",
       "      <th>Amount</th>\n",
       "    </tr>\n",
       "  </thead>\n",
       "  <tbody>\n",
       "    <tr>\n",
       "      <th>46853</th>\n",
       "      <td>42957.0</td>\n",
       "      <td>-3.434908</td>\n",
       "      <td>-1.335113</td>\n",
       "      <td>0.387497</td>\n",
       "      <td>-2.087460</td>\n",
       "      <td>-1.109935</td>\n",
       "      <td>-1.294444</td>\n",
       "      <td>0.087575</td>\n",
       "      <td>0.255596</td>\n",
       "      <td>0.109332</td>\n",
       "      <td>...</td>\n",
       "      <td>-0.434131</td>\n",
       "      <td>-0.636449</td>\n",
       "      <td>-0.677560</td>\n",
       "      <td>-0.284187</td>\n",
       "      <td>0.473587</td>\n",
       "      <td>-0.288518</td>\n",
       "      <td>0.921562</td>\n",
       "      <td>0.136693</td>\n",
       "      <td>-0.083210</td>\n",
       "      <td>191.15</td>\n",
       "    </tr>\n",
       "    <tr>\n",
       "      <th>75242</th>\n",
       "      <td>55966.0</td>\n",
       "      <td>-1.032973</td>\n",
       "      <td>0.286041</td>\n",
       "      <td>0.825081</td>\n",
       "      <td>-1.678015</td>\n",
       "      <td>2.124738</td>\n",
       "      <td>3.684584</td>\n",
       "      <td>-0.131394</td>\n",
       "      <td>0.990692</td>\n",
       "      <td>-0.240249</td>\n",
       "      <td>...</td>\n",
       "      <td>0.011466</td>\n",
       "      <td>-0.007562</td>\n",
       "      <td>-0.266134</td>\n",
       "      <td>-0.282445</td>\n",
       "      <td>1.025607</td>\n",
       "      <td>0.305110</td>\n",
       "      <td>0.318110</td>\n",
       "      <td>-0.061782</td>\n",
       "      <td>0.030641</td>\n",
       "      <td>65.78</td>\n",
       "    </tr>\n",
       "    <tr>\n",
       "      <th>174158</th>\n",
       "      <td>121799.0</td>\n",
       "      <td>1.867973</td>\n",
       "      <td>-0.924684</td>\n",
       "      <td>0.122297</td>\n",
       "      <td>0.054521</td>\n",
       "      <td>-1.242409</td>\n",
       "      <td>0.114805</td>\n",
       "      <td>-1.275009</td>\n",
       "      <td>0.338148</td>\n",
       "      <td>1.813929</td>\n",
       "      <td>...</td>\n",
       "      <td>-0.189983</td>\n",
       "      <td>0.262613</td>\n",
       "      <td>0.779741</td>\n",
       "      <td>0.141090</td>\n",
       "      <td>-0.418693</td>\n",
       "      <td>-0.480943</td>\n",
       "      <td>0.073411</td>\n",
       "      <td>0.025617</td>\n",
       "      <td>-0.038644</td>\n",
       "      <td>45.98</td>\n",
       "    </tr>\n",
       "  </tbody>\n",
       "</table>\n",
       "<p>3 rows × 30 columns</p>\n",
       "</div>"
      ],
      "text/plain": [
       "            Time        V1        V2        V3        V4        V5        V6  \\\n",
       "46853    42957.0 -3.434908 -1.335113  0.387497 -2.087460 -1.109935 -1.294444   \n",
       "75242    55966.0 -1.032973  0.286041  0.825081 -1.678015  2.124738  3.684584   \n",
       "174158  121799.0  1.867973 -0.924684  0.122297  0.054521 -1.242409  0.114805   \n",
       "\n",
       "              V7        V8        V9  ...       V20       V21       V22  \\\n",
       "46853   0.087575  0.255596  0.109332  ... -0.434131 -0.636449 -0.677560   \n",
       "75242  -0.131394  0.990692 -0.240249  ...  0.011466 -0.007562 -0.266134   \n",
       "174158 -1.275009  0.338148  1.813929  ... -0.189983  0.262613  0.779741   \n",
       "\n",
       "             V23       V24       V25       V26       V27       V28  Amount  \n",
       "46853  -0.284187  0.473587 -0.288518  0.921562  0.136693 -0.083210  191.15  \n",
       "75242  -0.282445  1.025607  0.305110  0.318110 -0.061782  0.030641   65.78  \n",
       "174158  0.141090 -0.418693 -0.480943  0.073411  0.025617 -0.038644   45.98  \n",
       "\n",
       "[3 rows x 30 columns]"
      ]
     },
     "execution_count": 8,
     "metadata": {},
     "output_type": "execute_result"
    }
   ],
   "source": [
    "x.sample(3)"
   ]
  },
  {
   "cell_type": "code",
   "execution_count": 9,
   "id": "72c7df5f-1ec0-4089-b600-ba87fd9bcfcb",
   "metadata": {},
   "outputs": [
    {
     "data": {
      "text/plain": [
       "86132     0\n",
       "86342     0\n",
       "252943    0\n",
       "Name: Class, dtype: int64"
      ]
     },
     "execution_count": 9,
     "metadata": {},
     "output_type": "execute_result"
    }
   ],
   "source": [
    "y.sample(3)"
   ]
  },
  {
   "cell_type": "code",
   "execution_count": 10,
   "id": "c66a5bfd-4116-44bc-8d19-f5515a5c4eeb",
   "metadata": {},
   "outputs": [
    {
     "data": {
      "text/plain": [
       "Class\n",
       "0    284315\n",
       "1       492\n",
       "Name: count, dtype: int64"
      ]
     },
     "execution_count": 10,
     "metadata": {},
     "output_type": "execute_result"
    }
   ],
   "source": [
    "y.value_counts()"
   ]
  },
  {
   "cell_type": "markdown",
   "id": "c34d0b71-cdde-4df7-a041-25e715c9969f",
   "metadata": {},
   "source": [
    "## Method 1: Random Undersampling"
   ]
  },
  {
   "cell_type": "code",
   "execution_count": 11,
   "id": "ea820507-41af-4ceb-bd67-9479a36605ef",
   "metadata": {},
   "outputs": [],
   "source": [
    "from imblearn.under_sampling import RandomUnderSampler\n",
    "under = RandomUnderSampler()\n",
    "xunder, yunder = under.fit_resample(x,y)"
   ]
  },
  {
   "cell_type": "code",
   "execution_count": 12,
   "id": "052fd22d-3465-44fa-862a-52e1f047c60b",
   "metadata": {},
   "outputs": [
    {
     "data": {
      "text/plain": [
       "Class\n",
       "0    492\n",
       "1    492\n",
       "Name: count, dtype: int64"
      ]
     },
     "execution_count": 12,
     "metadata": {},
     "output_type": "execute_result"
    }
   ],
   "source": [
    "yunder.value_counts()"
   ]
  },
  {
   "cell_type": "markdown",
   "id": "af635f0a-7626-4004-a1c1-03ed8b29d9cb",
   "metadata": {},
   "source": [
    "## Method 2: Random Oversampling"
   ]
  },
  {
   "cell_type": "code",
   "execution_count": 13,
   "id": "5af1b0a4-ad94-4904-9eca-a09dd7a2729c",
   "metadata": {},
   "outputs": [],
   "source": [
    "from imblearn.over_sampling import RandomOverSampler\n",
    "over = RandomOverSampler()\n",
    "xover, yover = over.fit_resample(x,y)"
   ]
  },
  {
   "cell_type": "code",
   "execution_count": 14,
   "id": "4dd5e260-8d3f-4d36-9a5a-5a2668c439df",
   "metadata": {},
   "outputs": [
    {
     "data": {
      "text/plain": [
       "Class\n",
       "0    284315\n",
       "1    284315\n",
       "Name: count, dtype: int64"
      ]
     },
     "execution_count": 14,
     "metadata": {},
     "output_type": "execute_result"
    }
   ],
   "source": [
    "yover.value_counts()"
   ]
  },
  {
   "cell_type": "markdown",
   "id": "8a13f96a-eac1-411e-8684-de859afe8b27",
   "metadata": {},
   "source": [
    "## Method 3: SMOTE"
   ]
  },
  {
   "cell_type": "code",
   "execution_count": 15,
   "id": "ee6d2c4b-9462-47f0-8a01-39f8a0a26f2d",
   "metadata": {},
   "outputs": [],
   "source": [
    "from imblearn.over_sampling import SMOTE\n",
    "smt = SMOTE()\n",
    "xsmote, ysmote = smt.fit_resample(x,y)"
   ]
  },
  {
   "cell_type": "code",
   "execution_count": 16,
   "id": "b71fc480-7e5f-4796-9a84-7327a34d84df",
   "metadata": {},
   "outputs": [
    {
     "data": {
      "text/plain": [
       "Class\n",
       "0    284315\n",
       "1    284315\n",
       "Name: count, dtype: int64"
      ]
     },
     "execution_count": 16,
     "metadata": {},
     "output_type": "execute_result"
    }
   ],
   "source": [
    "ysmote.value_counts()"
   ]
  },
  {
   "cell_type": "markdown",
   "id": "cfeb2bd5-59e3-4109-901f-94ebdea2a21e",
   "metadata": {},
   "source": [
    "# Multiclass"
   ]
  },
  {
   "cell_type": "code",
   "execution_count": 17,
   "id": "5ced79b5-523c-4127-a111-2b161ecbd747",
   "metadata": {},
   "outputs": [
    {
     "data": {
      "text/html": [
       "<div>\n",
       "<style scoped>\n",
       "    .dataframe tbody tr th:only-of-type {\n",
       "        vertical-align: middle;\n",
       "    }\n",
       "\n",
       "    .dataframe tbody tr th {\n",
       "        vertical-align: top;\n",
       "    }\n",
       "\n",
       "    .dataframe thead th {\n",
       "        text-align: right;\n",
       "    }\n",
       "</style>\n",
       "<table border=\"1\" class=\"dataframe\">\n",
       "  <thead>\n",
       "    <tr style=\"text-align: right;\">\n",
       "      <th></th>\n",
       "      <th>Feature1</th>\n",
       "      <th>Feature2</th>\n",
       "      <th>Target</th>\n",
       "    </tr>\n",
       "  </thead>\n",
       "  <tbody>\n",
       "    <tr>\n",
       "      <th>4880</th>\n",
       "      <td>1.260374</td>\n",
       "      <td>0.190613</td>\n",
       "      <td>2</td>\n",
       "    </tr>\n",
       "    <tr>\n",
       "      <th>2414</th>\n",
       "      <td>0.470048</td>\n",
       "      <td>-1.245067</td>\n",
       "      <td>2</td>\n",
       "    </tr>\n",
       "    <tr>\n",
       "      <th>1799</th>\n",
       "      <td>1.348440</td>\n",
       "      <td>0.364372</td>\n",
       "      <td>2</td>\n",
       "    </tr>\n",
       "    <tr>\n",
       "      <th>3139</th>\n",
       "      <td>0.556387</td>\n",
       "      <td>-1.701943</td>\n",
       "      <td>2</td>\n",
       "    </tr>\n",
       "  </tbody>\n",
       "</table>\n",
       "</div>"
      ],
      "text/plain": [
       "      Feature1  Feature2  Target\n",
       "4880  1.260374  0.190613       2\n",
       "2414  0.470048 -1.245067       2\n",
       "1799  1.348440  0.364372       2\n",
       "3139  0.556387 -1.701943       2"
      ]
     },
     "execution_count": 17,
     "metadata": {},
     "output_type": "execute_result"
    }
   ],
   "source": [
    "df = pd.read_csv('synthetic_dataset.csv')\n",
    "df.sample(4)"
   ]
  },
  {
   "cell_type": "code",
   "execution_count": 18,
   "id": "be1bcd55-0966-426f-849f-4e7e093ddcb2",
   "metadata": {},
   "outputs": [
    {
     "data": {
      "text/plain": [
       "<Axes: xlabel='Target', ylabel='count'>"
      ]
     },
     "execution_count": 18,
     "metadata": {},
     "output_type": "execute_result"
    },
    {
     "data": {
      "image/png": "[encoded data removed]",
      "text/plain": [
       "<Figure size 640x480 with 1 Axes>"
      ]
     },
     "metadata": {},
     "output_type": "display_data"
    }
   ],
   "source": [
    "sns.countplot(data=df, x='Target', hue='Target')"
   ]
  },
  {
   "cell_type": "code",
   "execution_count": 20,
   "id": "21b4ce69-ad5a-4635-998d-da83a0522a50",
   "metadata": {},
   "outputs": [],
   "source": [
    "x = df.drop(columns='Target')\n",
    "y = df[['Target']].values"
   ]
  },
  {
   "cell_type": "code",
   "execution_count": 22,
   "id": "16ebf630-488e-4d07-abcc-94b8761ecbaa",
   "metadata": {},
   "outputs": [],
   "source": [
    "xsmote, ysmote = smt.fit_resample(x,y)"
   ]
  },
  {
   "cell_type": "code",
   "execution_count": 25,
   "id": "c9f34051-a9e0-4c67-b9ad-919b52fb27bd",
   "metadata": {},
   "outputs": [
    {
     "data": {
      "text/plain": [
       "<Axes: ylabel='count'>"
      ]
     },
     "execution_count": 25,
     "metadata": {},
     "output_type": "execute_result"
    },
    {
     "data": {
      "image/png": "[encoded data removed]",
      "text/plain": [
       "<Figure size 640x480 with 1 Axes>"
      ]
     },
     "metadata": {},
     "output_type": "display_data"
    }
   ],
   "source": [
    "sns.countplot(x=ysmote, hue=ysmote)"
   ]
  },
  {
   "cell_type": "code",
   "execution_count": null,
   "id": "3f05200f-d6d7-44cd-8215-0e8a50893e4f",
   "metadata": {},
   "outputs": [],
   "source": []
  }
 ],
 "metadata": {
  "kernelspec": {
   "display_name": "Python 3 (ipykernel)",
   "language": "python",
   "name": "python3"
  },
  "language_info": {
   "codemirror_mode": {
    "name": "ipython",
    "version": 3
   },
   "file_extension": ".py",
   "mimetype": "text/x-python",
   "name": "python",
   "nbconvert_exporter": "python",
   "pygments_lexer": "ipython3",
   "version": "3.12.5"
  }
 },
 "nbformat": 4,
 "nbformat_minor": 5
}
